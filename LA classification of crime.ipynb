{
 "cells": [
  {
   "cell_type": "markdown",
   "id": "f864383f",
   "metadata": {},
   "source": [
    "Part 1 and Part 2 crimes are classifications used by law enforcement agencies, including the Los Angeles Police Department (LAPD), to categorize different types of crimes."
   ]
  },
  {
   "cell_type": "markdown",
   "id": "4cd7a0fb",
   "metadata": {},
   "source": [
    "# Part 1 Crimes:"
   ]
  },
  {
   "cell_type": "markdown",
   "id": "b1c7842f",
   "metadata": {},
   "source": [
    "\n",
    " Part 1 crimes, also known as index crimes, are considered serious offenses and are tracked by the FBI's Uniform Crime Reporting (UCR) program.Part 1 crimes have a higher priority for law enforcement. These crimes are divided into two main categories:\n"
   ]
  },
  {
   "cell_type": "markdown",
   "id": "8d7968a9",
   "metadata": {},
   "source": [
    "a. Violent Crimes: Violent crimes involve the use or threat of force against a person. Examples of violent crimes include homicide, rape, robbery, and aggravated assault.\n",
    "\n",
    "b. Property Crimes: Property crimes involve the unlawful taking or destruction of someone's property. Examples of property crimes include burglary, theft, motor vehicle theft, and arson."
   ]
  },
  {
   "cell_type": "markdown",
   "id": "6d2eb349",
   "metadata": {},
   "source": [
    "# Part 2 Crimes:"
   ]
  },
  {
   "cell_type": "markdown",
   "id": "f497e8dc",
   "metadata": {},
   "source": [
    "\n",
    " Part 2 crimes encompass a broader range of offenses that are not classified as Part 1 crimes. Part 2 crimes include less serious offenses or violations that may not fall under the UCR program's specific criteria for Part 1 crimes. These crimes can vary by jurisdiction but typically include offenses such as simple assault, fraud, drug offenses, vandalism, disorderly conduct, and other non-index crimes."
   ]
  },
  {
   "cell_type": "markdown",
   "id": "ec96e402",
   "metadata": {},
   "source": [
    "# Importing relevant libraries: "
   ]
  },
  {
   "cell_type": "code",
   "execution_count": 1,
   "id": "a4e76ef7",
   "metadata": {},
   "outputs": [],
   "source": [
    "import pandas as pd\n",
    "import numpy as np\n",
    "import pickle\n",
    "from sklearn.pipeline import Pipeline\n",
    "from sklearn.compose import ColumnTransformer\n",
    "from sklearn.impute import SimpleImputer\n",
    "from sklearn.preprocessing import LabelEncoder\n",
    "from sklearn.preprocessing import StandardScaler, OneHotEncoder\n",
    "from sklearn.linear_model import LogisticRegression\n",
    "from sklearn.ensemble import RandomForestClassifier\n",
    "from sklearn.tree import DecisionTreeClassifier\n",
    "from sklearn.model_selection import train_test_split\n",
    "from sklearn.metrics import classification_report"
   ]
  },
  {
   "cell_type": "code",
   "execution_count": 2,
   "id": "a10d5bd4",
   "metadata": {},
   "outputs": [],
   "source": [
    "# ignore warnings\n",
    "from warnings import filterwarnings\n",
    "filterwarnings('ignore')\n"
   ]
  },
  {
   "cell_type": "code",
   "execution_count": 3,
   "id": "e5a815a5",
   "metadata": {},
   "outputs": [],
   "source": [
    "data=pd.read_csv(\"C:/Users/skris/Downloads/Crime_Data_from_2020_to_Present.csv\")\n"
   ]
  },
  {
   "cell_type": "code",
   "execution_count": 5,
   "id": "a4f93086",
   "metadata": {},
   "outputs": [],
   "source": [
    "X = data[['AREA', 'Vict Age', 'Vict Sex', 'Vict Descent', 'Premis Cd', 'Status']].copy()\n",
    "y = data['Part 1-2'].copy()\n",
    "\n",
    "# Handle necessary null values in X if any\n",
    "X.fillna(X.mean(), inplace=True)"
   ]
  },
  {
   "cell_type": "markdown",
   "id": "cb7ec04c",
   "metadata": {},
   "source": [
    "# Applying Logistic Regression:"
   ]
  },
  {
   "cell_type": "code",
   "execution_count": 6,
   "id": "6c57cd1b",
   "metadata": {},
   "outputs": [
    {
     "name": "stdout",
     "output_type": "stream",
     "text": [
      "              precision    recall  f1-score   support\n",
      "\n",
      "           1       0.74      0.80      0.77     86289\n",
      "           2       0.68      0.61      0.64     61649\n",
      "\n",
      "    accuracy                           0.72    147938\n",
      "   macro avg       0.71      0.70      0.70    147938\n",
      "weighted avg       0.72      0.72      0.72    147938\n",
      "\n"
     ]
    }
   ],
   "source": [
    "\n",
    "# Encode categorical variables\n",
    "categorical_features = ['AREA', 'Vict Sex', 'Vict Descent', 'Premis Cd', 'Status']\n",
    "encoder = OneHotEncoder(sparse=False, handle_unknown='ignore')\n",
    "X_encoded = pd.DataFrame(encoder.fit_transform(X[categorical_features]))\n",
    "X_encoded.columns = encoder.get_feature_names(categorical_features)\n",
    "\n",
    "# Concatenate encoded categorical variables with numerical variables\n",
    "X_final = pd.concat([X_encoded, X.select_dtypes(include='number')], axis=1)\n",
    "\n",
    "# Encode the response variable\n",
    "label_encoder = LabelEncoder()\n",
    "y_encoded = label_encoder.fit_transform(y)\n",
    "\n",
    "# Split the data into training and testing sets\n",
    "X_train, X_test, y_train, y_test = train_test_split(X_final, y_encoded, test_size=0.2, random_state=42)\n",
    "\n",
    "# Create and train the logistic regression classifier\n",
    "clf = LogisticRegression()\n",
    "clf.fit(X_train, y_train)\n",
    "\n",
    "# Make predictions on the test set\n",
    "y_pred = clf.predict(X_test)\n",
    "\n",
    "# Decode the predicted labels\n",
    "y_pred_decoded = label_encoder.inverse_transform(y_pred)\n",
    "\n",
    "# Decode the true labels for evaluation\n",
    "y_test_decoded = label_encoder.inverse_transform(y_test)\n",
    "\n",
    "# Evaluate the classifier\n",
    "print(classification_report(y_test_decoded, y_pred_decoded))"
   ]
  },
  {
   "cell_type": "markdown",
   "id": "87f11254",
   "metadata": {},
   "source": [
    "# Using Random Forest Classifier:"
   ]
  },
  {
   "cell_type": "code",
   "execution_count": 7,
   "id": "e4947dc9",
   "metadata": {},
   "outputs": [
    {
     "name": "stdout",
     "output_type": "stream",
     "text": [
      "              precision    recall  f1-score   support\n",
      "\n",
      "           1       0.75      0.77      0.76     86289\n",
      "           2       0.67      0.65      0.66     61649\n",
      "\n",
      "    accuracy                           0.72    147938\n",
      "   macro avg       0.71      0.71      0.71    147938\n",
      "weighted avg       0.72      0.72      0.72    147938\n",
      "\n"
     ]
    }
   ],
   "source": [
    "# Assuming your dataset is stored in a pandas DataFrame called 'data'\n",
    "# Separate predictor variables (X) and response variable (y)\n",
    "#X = data[['AREA', 'Vict Age', 'Vict Sex', 'Vict Descent', 'Premis Cd', 'Status']].copy()\n",
    "#y = data['Part 1-2'].copy()\n",
    "\n",
    "# Handle necessary null values in X if any\n",
    "#X.fillna(X.mean(), inplace=True)\n",
    "\n",
    "# Convert categorical variables to numerical using one-hot encoding\n",
    "X_encoded = pd.get_dummies(X, drop_first=True)\n",
    "\n",
    "# Split the data into training and testing sets\n",
    "X_train, X_test, y_train, y_test = train_test_split(X_encoded, y, test_size=0.2, random_state=42)\n",
    "\n",
    "# Create and train the random forest classifier\n",
    "clf = RandomForestClassifier()\n",
    "clf.fit(X_train, y_train)\n",
    "\n",
    "# Make predictions on the test set\n",
    "y_pred = clf.predict(X_test)\n",
    "\n",
    "# Evaluate the classifier\n",
    "print(classification_report(y_test, y_pred))"
   ]
  },
  {
   "cell_type": "markdown",
   "id": "80561779",
   "metadata": {},
   "source": [
    "# By Decision Tree Classifier:"
   ]
  },
  {
   "cell_type": "code",
   "execution_count": 8,
   "id": "4255c1d3",
   "metadata": {},
   "outputs": [
    {
     "name": "stdout",
     "output_type": "stream",
     "text": [
      "              precision    recall  f1-score   support\n",
      "\n",
      "           1       0.73      0.78      0.76     86289\n",
      "           2       0.66      0.60      0.63     61649\n",
      "\n",
      "    accuracy                           0.71    147938\n",
      "   macro avg       0.70      0.69      0.70    147938\n",
      "weighted avg       0.71      0.71      0.71    147938\n",
      "\n"
     ]
    }
   ],
   "source": [
    "# Create and train the decision tree classifier\n",
    "clf = DecisionTreeClassifier()\n",
    "clf.fit(X_train, y_train)\n",
    "\n",
    "# Make predictions on the test set\n",
    "y_pred = clf.predict(X_test)\n",
    "\n",
    "# Evaluate the classifier\n",
    "print(classification_report(y_test, y_pred))"
   ]
  },
  {
   "cell_type": "code",
   "execution_count": null,
   "id": "e126d9fc",
   "metadata": {},
   "outputs": [],
   "source": []
  },
  {
   "cell_type": "code",
   "execution_count": null,
   "id": "722c563d",
   "metadata": {},
   "outputs": [],
   "source": []
  }
 ],
 "metadata": {
  "kernelspec": {
   "display_name": "Python 3 (ipykernel)",
   "language": "python",
   "name": "python3"
  },
  "language_info": {
   "codemirror_mode": {
    "name": "ipython",
    "version": 3
   },
   "file_extension": ".py",
   "mimetype": "text/x-python",
   "name": "python",
   "nbconvert_exporter": "python",
   "pygments_lexer": "ipython3",
   "version": "3.7.8"
  }
 },
 "nbformat": 4,
 "nbformat_minor": 5
}
